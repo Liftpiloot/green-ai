{
 "cells": [
  {
   "metadata": {},
   "cell_type": "markdown",
   "source": [
    "# Green AI model\n",
    "### Dit model is gemaakt om te kunnen voorspellen in hoeverre de leefbaarheid, en het milieugezondheidsrisico van een postcode in Nederland verbeterd kan worden door het aanleggen van meer groen in de buurt.\n",
    "\n",
    " - Abel van Dijk"
   ],
   "id": "35855c09a4bf97a7"
  },
  {
   "metadata": {},
   "cell_type": "markdown",
   "source": "### Importeren van de data en libraries, en data analyseren",
   "id": "ce7ed90b5b3ab3ee"
  },
  {
   "metadata": {
    "ExecuteTime": {
     "end_time": "2025-06-05T12:12:55.350668Z",
     "start_time": "2025-06-05T12:12:55.345946Z"
    }
   },
   "cell_type": "code",
   "source": [
    "import pandas as pd\n",
    "from functools import reduce\n",
    "import numpy as np\n",
    "import seaborn as sns\n",
    "import matplotlib.pyplot as plt\n",
    "from sklearn import svm\n",
    "from sklearn.model_selection import train_test_split\n",
    "import joblib\n",
    "from sklearn.metrics import r2_score, mean_squared_error\n"
   ],
   "id": "da3635fe8765d363",
   "outputs": [],
   "execution_count": 144
  },
  {
   "metadata": {
    "ExecuteTime": {
     "end_time": "2025-06-05T12:12:55.422367Z",
     "start_time": "2025-06-05T12:12:55.356776Z"
    }
   },
   "cell_type": "code",
   "source": [
    "# importeer de csv bestanden\n",
    "Groenkaart = pd.read_csv('ai-data/Groenkaart.csv', sep=';')\n",
    "Leefbaarometer = pd.read_csv('ai-data/Leefbaarometer.csv', sep=',')\n",
    "Milieugezondheidrisico = pd.read_csv('ai-data/MilieuGezondheidRisico.csv', sep=',')\n",
    "TreesBushesGrass = pd.read_csv('ai-data/TreesBushesGrass.csv', sep=',')\n",
    "data = []\n",
    "data.append(Groenkaart)\n",
    "# data.append(Leefbaarometer)\n",
    "data.append(Milieugezondheidrisico)\n",
    "data.append(TreesBushesGrass)"
   ],
   "id": "83640df37ece54d2",
   "outputs": [],
   "execution_count": 145
  },
  {
   "metadata": {
    "ExecuteTime": {
     "end_time": "2025-06-05T12:12:55.453793Z",
     "start_time": "2025-06-05T12:12:55.446400Z"
    }
   },
   "cell_type": "code",
   "source": [
    "for dataframe in data:\n",
    "    print(dataframe.head())"
   ],
   "id": "5d09a0ccdb8e745e",
   "outputs": [
    {
     "name": "stdout",
     "output_type": "stream",
     "text": [
      "   fid  postcode groen_mean  groen_median groen_stdev  groen_min groen_max,,\n",
      "0    1      1011          4             4           0          4         4,,\n",
      "1    2      1012          4             4           0          4         4,,\n",
      "2    3      1013          4             4           0          4         4,,\n",
      "3    4      1014          4             4           0          4         4,,\n",
      "4    5      1015          4             4           0          4         4,,\n",
      "   fid  postcode  aantal_inwoners  percentage_laag_inkomen_huishouden  \\\n",
      "0    1      1011             9910                              -99995   \n",
      "1    2      1012             8900                              -99995   \n",
      "2    3      1013            22350                              -99995   \n",
      "3    4      1014             3900                              -99995   \n",
      "4    5      1015            14850                              -99995   \n",
      "\n",
      "   omgevingsadressendichtheid  stedelijkheid  mgr_mean  mgr_median  mgr_stdev  \\\n",
      "0                        7150              1  7.290559    7.133442   0.967692   \n",
      "1                        8612              1  6.960372    6.819243   0.745158   \n",
      "2                        6614              1  7.533962    7.285124   1.303057   \n",
      "3                        3384              1  7.505071    7.256185   1.094641   \n",
      "4                       11140              1  6.591132    6.457922   0.422560   \n",
      "\n",
      "    mgr_min    mgr_max  mgr_range  \n",
      "0  5.898354  10.844517   4.946163  \n",
      "1  5.890296  10.846636   4.956339  \n",
      "2  5.605446  14.447000   8.841555  \n",
      "3  5.700474  11.542089   5.841615  \n",
      "4  6.025425   8.500682   2.475256  \n",
      "   Postcode  PercentageTrees  PercentageBushes  PercentageGrass\n",
      "0      1011            20.29              5.89            17.21\n",
      "1      1012            16.31              4.38            13.89\n",
      "2      1013            21.12              7.54            30.54\n",
      "3      1014            29.92             10.18            41.75\n",
      "4      1015            21.36              7.43            17.37\n"
     ]
    }
   ],
   "execution_count": 146
  },
  {
   "metadata": {},
   "cell_type": "markdown",
   "source": [
    "Alle dataframes bevatten een kolom met de postcode in pc4 format, (4 cijfers) en een kolom met de waarde van de variabele. De postcode in pc4 format is een unieke identifier voor elke postcode in Nederland. Dit betekent dat we de dataframes kunnen samenvoegen op basis van deze kolom.\n",
    "\n",
    "### Samenvoegen van de dataframes\n"
   ],
   "id": "1d06c884f2ccfdfd"
  },
  {
   "metadata": {
    "ExecuteTime": {
     "end_time": "2025-06-05T12:12:55.487589Z",
     "start_time": "2025-06-05T12:12:55.477074Z"
    }
   },
   "cell_type": "code",
   "source": [
    "for i, df in enumerate(data):\n",
    "    for col in df.columns:\n",
    "        if col.lower() in ['postcode', 'pc4']:\n",
    "            df.rename(columns={col: 'pc4'}, inplace=True)\n",
    "    data[i] = df\n",
    "\n",
    "merged_df = reduce(lambda left, right: pd.merge(left, right, on='pc4', how='outer'), data)\n",
    "\n",
    "print(merged_df.head())\n",
    "\n",
    "print(merged_df.columns)"
   ],
   "id": "1913323ada9e5b83",
   "outputs": [
    {
     "name": "stdout",
     "output_type": "stream",
     "text": [
      "   fid_x   pc4 groen_mean  groen_median groen_stdev  groen_min groen_max,,  \\\n",
      "0      1  1011          4             4           0          4         4,,   \n",
      "1      2  1012          4             4           0          4         4,,   \n",
      "2      3  1013          4             4           0          4         4,,   \n",
      "3      4  1014          4             4           0          4         4,,   \n",
      "4      5  1015          4             4           0          4         4,,   \n",
      "\n",
      "   fid_y  aantal_inwoners  percentage_laag_inkomen_huishouden  ...  \\\n",
      "0      1             9910                              -99995  ...   \n",
      "1      2             8900                              -99995  ...   \n",
      "2      3            22350                              -99995  ...   \n",
      "3      4             3900                              -99995  ...   \n",
      "4      5            14850                              -99995  ...   \n",
      "\n",
      "   stedelijkheid  mgr_mean  mgr_median  mgr_stdev   mgr_min    mgr_max  \\\n",
      "0              1  7.290559    7.133442   0.967692  5.898354  10.844517   \n",
      "1              1  6.960372    6.819243   0.745158  5.890296  10.846636   \n",
      "2              1  7.533962    7.285124   1.303057  5.605446  14.447000   \n",
      "3              1  7.505071    7.256185   1.094641  5.700474  11.542089   \n",
      "4              1  6.591132    6.457922   0.422560  6.025425   8.500682   \n",
      "\n",
      "   mgr_range  PercentageTrees  PercentageBushes  PercentageGrass  \n",
      "0   4.946163            20.29              5.89            17.21  \n",
      "1   4.956339            16.31              4.38            13.89  \n",
      "2   8.841555            21.12              7.54            30.54  \n",
      "3   5.841615            29.92             10.18            41.75  \n",
      "4   2.475256            21.36              7.43            17.37  \n",
      "\n",
      "[5 rows x 21 columns]\n",
      "Index(['fid_x', 'pc4', 'groen_mean', 'groen_median', 'groen_stdev',\n",
      "       'groen_min', 'groen_max,,', 'fid_y', 'aantal_inwoners',\n",
      "       'percentage_laag_inkomen_huishouden', 'omgevingsadressendichtheid',\n",
      "       'stedelijkheid', 'mgr_mean', 'mgr_median', 'mgr_stdev', 'mgr_min',\n",
      "       'mgr_max', 'mgr_range', 'PercentageTrees', 'PercentageBushes',\n",
      "       'PercentageGrass'],\n",
      "      dtype='object')\n"
     ]
    }
   ],
   "execution_count": 147
  },
  {
   "metadata": {},
   "cell_type": "markdown",
   "source": "### Missende data",
   "id": "69ed135dc84282a9"
  },
  {
   "metadata": {
    "ExecuteTime": {
     "end_time": "2025-06-05T12:12:55.519272Z",
     "start_time": "2025-06-05T12:12:55.514218Z"
    }
   },
   "cell_type": "code",
   "source": [
    "missing_data = merged_df.isnull().sum()\n",
    "missing_data_percentage = (missing_data / len(merged_df)) * 100\n",
    "missing_data_percentage = missing_data_percentage[missing_data_percentage > 0]\n",
    "print(missing_data_percentage)"
   ],
   "id": "d9f4b31ad60eaa54",
   "outputs": [
    {
     "name": "stdout",
     "output_type": "stream",
     "text": [
      "Series([], dtype: float64)\n"
     ]
    }
   ],
   "execution_count": 148
  },
  {
   "metadata": {},
   "cell_type": "markdown",
   "source": [
    "### Verwijderen van onnodige kolommen\n",
    "- fid_x en fid_y slechts een id, kan verwijderd worden\n",
    "Leefbaarheid wordt gevormd door\n",
    "- Woningvoorraad\n",
    "- Fysieke omgeving\n",
    "- Voorzieningen\n",
    "- Sociale samenhang\n",
    "- Overlast en onveiligheid\n",
    "Deze subvariabelen zijn in de meeste rijen niet ingevuld, en zijn dus niet handig om te gebruiken. We verwijderen ze.\n",
    "\n",
    "- jaar_van en jaar_naar zijn niet nodig omdat de AI geen tijdsafhankelijk is.\n",
    "\n",
    "-lbm (Leefbaarometer) is een waarde die we willen voorspellen, en is dus de target variable. Deze kolom willen we behouden, daarom verwijder ik de rijen met een null waarde in deze kolom."
   ],
   "id": "6ded5eba16f590da"
  },
  {
   "metadata": {
    "ExecuteTime": {
     "end_time": "2025-06-05T12:12:55.576750Z",
     "start_time": "2025-06-05T12:12:55.569375Z"
    }
   },
   "cell_type": "code",
   "source": [
    "# Verwijder de kolommen die niet nodig zijn\n",
    "merged_df.drop(columns=['fid_x', 'fid_y',\n",
    "                        #'fys', 'onv', 'soc', 'vrz', 'won', 'jaar_naar', 'jaar_van'\n",
    "                        ], inplace=True)\n",
    "\n",
    "# Verwijder de rijen met een null waarde in de kolom 'lbm'\n",
    "# merged_df.dropna(subset=['lbm'], inplace=True)\n",
    "\n",
    "merged_df.info()"
   ],
   "id": "4bac5745357ad054",
   "outputs": [
    {
     "name": "stdout",
     "output_type": "stream",
     "text": [
      "<class 'pandas.core.frame.DataFrame'>\n",
      "RangeIndex: 4070 entries, 0 to 4069\n",
      "Data columns (total 19 columns):\n",
      " #   Column                              Non-Null Count  Dtype  \n",
      "---  ------                              --------------  -----  \n",
      " 0   pc4                                 4070 non-null   int64  \n",
      " 1   groen_mean                          4070 non-null   object \n",
      " 2   groen_median                        4070 non-null   int64  \n",
      " 3   groen_stdev                         4070 non-null   object \n",
      " 4   groen_min                           4070 non-null   int64  \n",
      " 5   groen_max,,                         4070 non-null   object \n",
      " 6   aantal_inwoners                     4070 non-null   int64  \n",
      " 7   percentage_laag_inkomen_huishouden  4070 non-null   int64  \n",
      " 8   omgevingsadressendichtheid          4070 non-null   int64  \n",
      " 9   stedelijkheid                       4070 non-null   int64  \n",
      " 10  mgr_mean                            4070 non-null   float64\n",
      " 11  mgr_median                          4070 non-null   float64\n",
      " 12  mgr_stdev                           4070 non-null   float64\n",
      " 13  mgr_min                             4070 non-null   float64\n",
      " 14  mgr_max                             4070 non-null   float64\n",
      " 15  mgr_range                           4070 non-null   float64\n",
      " 16  PercentageTrees                     4070 non-null   float64\n",
      " 17  PercentageBushes                    4070 non-null   float64\n",
      " 18  PercentageGrass                     4070 non-null   float64\n",
      "dtypes: float64(9), int64(7), object(3)\n",
      "memory usage: 604.3+ KB\n"
     ]
    }
   ],
   "execution_count": 149
  },
  {
   "metadata": {},
   "cell_type": "markdown",
   "source": [
    "### Niet-numerieke kolommen\n",
    "de kolommen groen_mean, groen_stdev, groen_max bevatten bevatten objects in plaats van floats. bij het bekijken van de data zie ik dat er een fout lijkt te zijn, omdat de waarden van 1 tot 4 horen te zijn, maar enorme waarden bevatten. Dit komt omdat de kaart -9999 bevat op locaties waar geen groen is. de waarden 1 tot 4 zijn categorisch. Bij het berekenen van het gemiddelde, standaard deviatie en maximum, worden dus vreemde getallen berekend. Ik denk dat dit komt omdat Qgis niet goed kan rekenen met de -9999 waarde. Omdat de meeste rijen nu hele rare data bevatten, verwijder ik deze kolommen.\n",
    "\n",
    "Omdat het categorische data betreft, lijkt de Median"
   ],
   "id": "53a6fa909d707b46"
  },
  {
   "metadata": {
    "ExecuteTime": {
     "end_time": "2025-06-05T12:12:55.602296Z",
     "start_time": "2025-06-05T12:12:55.582756Z"
    }
   },
   "cell_type": "code",
   "source": [
    "# delete the columns groen_mean;groen_median;groen_stdev;groen_min;groen_max,\n",
    "\n",
    "merged_df.drop(columns=['groen_mean', 'groen_median', 'groen_stdev', 'groen_min', 'groen_max,,'], inplace=True)\n",
    "\n",
    "merged_df.describe()"
   ],
   "id": "ec9f793ccf208ef",
   "outputs": [
    {
     "data": {
      "text/plain": [
       "               pc4  aantal_inwoners  percentage_laag_inkomen_huishouden  \\\n",
       "count  4070.000000      4070.000000                              4070.0   \n",
       "mean   5669.139803      3982.610074                            -99995.0   \n",
       "std    2670.014850      7856.638075                                 0.0   \n",
       "min    1011.000000    -99997.000000                            -99995.0   \n",
       "25%    3329.500000       725.000000                            -99995.0   \n",
       "50%    5697.500000      2797.500000                            -99995.0   \n",
       "75%    8042.750000      7140.000000                            -99995.0   \n",
       "max    9999.000000     28185.000000                            -99995.0   \n",
       "\n",
       "       omgevingsadressendichtheid  stedelijkheid     mgr_mean   mgr_median  \\\n",
       "count                 4070.000000    4070.000000  4070.000000  4070.000000   \n",
       "mean                  1050.003194     -20.828256     4.122685     3.944855   \n",
       "std                   2127.913780    1567.495152     1.073944     1.012014   \n",
       "min                 -99997.000000  -99997.000000     2.019631     2.552323   \n",
       "25%                    124.000000       2.000000     3.313683     3.196496   \n",
       "50%                    526.000000       4.000000     3.872290     3.683171   \n",
       "75%                   1563.500000       5.000000     4.733281     4.500638   \n",
       "max                  11760.000000       5.000000    13.014039    12.994216   \n",
       "\n",
       "         mgr_stdev      mgr_min      mgr_max    mgr_range  PercentageTrees  \\\n",
       "count  4070.000000  4070.000000  4070.000000  4070.000000      4070.000000   \n",
       "mean      0.626274     3.075945     8.073461     4.997517        32.588693   \n",
       "std       0.328677     1.342991     2.473644     2.326455        11.483787   \n",
       "min       0.047456     0.000000     3.111541     0.339382         0.000000   \n",
       "25%       0.386605     2.743936     6.400044     3.404310        24.392500   \n",
       "50%       0.577386     3.224374     7.759539     4.639960        29.550000   \n",
       "75%       0.803512     3.797475     9.335567     6.147952        39.997500   \n",
       "max       3.122285     7.863830    27.410721    21.155798        70.450000   \n",
       "\n",
       "       PercentageBushes  PercentageGrass  \n",
       "count       4070.000000      4070.000000  \n",
       "mean           8.692052        47.587354  \n",
       "std            1.594413        10.970378  \n",
       "min            1.990000        13.890000  \n",
       "25%            7.770000        39.560000  \n",
       "50%            8.460000        47.335000  \n",
       "75%            9.290000        55.890000  \n",
       "max           23.060000        91.490000  "
      ],
      "text/html": [
       "<div>\n",
       "<style scoped>\n",
       "    .dataframe tbody tr th:only-of-type {\n",
       "        vertical-align: middle;\n",
       "    }\n",
       "\n",
       "    .dataframe tbody tr th {\n",
       "        vertical-align: top;\n",
       "    }\n",
       "\n",
       "    .dataframe thead th {\n",
       "        text-align: right;\n",
       "    }\n",
       "</style>\n",
       "<table border=\"1\" class=\"dataframe\">\n",
       "  <thead>\n",
       "    <tr style=\"text-align: right;\">\n",
       "      <th></th>\n",
       "      <th>pc4</th>\n",
       "      <th>aantal_inwoners</th>\n",
       "      <th>percentage_laag_inkomen_huishouden</th>\n",
       "      <th>omgevingsadressendichtheid</th>\n",
       "      <th>stedelijkheid</th>\n",
       "      <th>mgr_mean</th>\n",
       "      <th>mgr_median</th>\n",
       "      <th>mgr_stdev</th>\n",
       "      <th>mgr_min</th>\n",
       "      <th>mgr_max</th>\n",
       "      <th>mgr_range</th>\n",
       "      <th>PercentageTrees</th>\n",
       "      <th>PercentageBushes</th>\n",
       "      <th>PercentageGrass</th>\n",
       "    </tr>\n",
       "  </thead>\n",
       "  <tbody>\n",
       "    <tr>\n",
       "      <th>count</th>\n",
       "      <td>4070.000000</td>\n",
       "      <td>4070.000000</td>\n",
       "      <td>4070.0</td>\n",
       "      <td>4070.000000</td>\n",
       "      <td>4070.000000</td>\n",
       "      <td>4070.000000</td>\n",
       "      <td>4070.000000</td>\n",
       "      <td>4070.000000</td>\n",
       "      <td>4070.000000</td>\n",
       "      <td>4070.000000</td>\n",
       "      <td>4070.000000</td>\n",
       "      <td>4070.000000</td>\n",
       "      <td>4070.000000</td>\n",
       "      <td>4070.000000</td>\n",
       "    </tr>\n",
       "    <tr>\n",
       "      <th>mean</th>\n",
       "      <td>5669.139803</td>\n",
       "      <td>3982.610074</td>\n",
       "      <td>-99995.0</td>\n",
       "      <td>1050.003194</td>\n",
       "      <td>-20.828256</td>\n",
       "      <td>4.122685</td>\n",
       "      <td>3.944855</td>\n",
       "      <td>0.626274</td>\n",
       "      <td>3.075945</td>\n",
       "      <td>8.073461</td>\n",
       "      <td>4.997517</td>\n",
       "      <td>32.588693</td>\n",
       "      <td>8.692052</td>\n",
       "      <td>47.587354</td>\n",
       "    </tr>\n",
       "    <tr>\n",
       "      <th>std</th>\n",
       "      <td>2670.014850</td>\n",
       "      <td>7856.638075</td>\n",
       "      <td>0.0</td>\n",
       "      <td>2127.913780</td>\n",
       "      <td>1567.495152</td>\n",
       "      <td>1.073944</td>\n",
       "      <td>1.012014</td>\n",
       "      <td>0.328677</td>\n",
       "      <td>1.342991</td>\n",
       "      <td>2.473644</td>\n",
       "      <td>2.326455</td>\n",
       "      <td>11.483787</td>\n",
       "      <td>1.594413</td>\n",
       "      <td>10.970378</td>\n",
       "    </tr>\n",
       "    <tr>\n",
       "      <th>min</th>\n",
       "      <td>1011.000000</td>\n",
       "      <td>-99997.000000</td>\n",
       "      <td>-99995.0</td>\n",
       "      <td>-99997.000000</td>\n",
       "      <td>-99997.000000</td>\n",
       "      <td>2.019631</td>\n",
       "      <td>2.552323</td>\n",
       "      <td>0.047456</td>\n",
       "      <td>0.000000</td>\n",
       "      <td>3.111541</td>\n",
       "      <td>0.339382</td>\n",
       "      <td>0.000000</td>\n",
       "      <td>1.990000</td>\n",
       "      <td>13.890000</td>\n",
       "    </tr>\n",
       "    <tr>\n",
       "      <th>25%</th>\n",
       "      <td>3329.500000</td>\n",
       "      <td>725.000000</td>\n",
       "      <td>-99995.0</td>\n",
       "      <td>124.000000</td>\n",
       "      <td>2.000000</td>\n",
       "      <td>3.313683</td>\n",
       "      <td>3.196496</td>\n",
       "      <td>0.386605</td>\n",
       "      <td>2.743936</td>\n",
       "      <td>6.400044</td>\n",
       "      <td>3.404310</td>\n",
       "      <td>24.392500</td>\n",
       "      <td>7.770000</td>\n",
       "      <td>39.560000</td>\n",
       "    </tr>\n",
       "    <tr>\n",
       "      <th>50%</th>\n",
       "      <td>5697.500000</td>\n",
       "      <td>2797.500000</td>\n",
       "      <td>-99995.0</td>\n",
       "      <td>526.000000</td>\n",
       "      <td>4.000000</td>\n",
       "      <td>3.872290</td>\n",
       "      <td>3.683171</td>\n",
       "      <td>0.577386</td>\n",
       "      <td>3.224374</td>\n",
       "      <td>7.759539</td>\n",
       "      <td>4.639960</td>\n",
       "      <td>29.550000</td>\n",
       "      <td>8.460000</td>\n",
       "      <td>47.335000</td>\n",
       "    </tr>\n",
       "    <tr>\n",
       "      <th>75%</th>\n",
       "      <td>8042.750000</td>\n",
       "      <td>7140.000000</td>\n",
       "      <td>-99995.0</td>\n",
       "      <td>1563.500000</td>\n",
       "      <td>5.000000</td>\n",
       "      <td>4.733281</td>\n",
       "      <td>4.500638</td>\n",
       "      <td>0.803512</td>\n",
       "      <td>3.797475</td>\n",
       "      <td>9.335567</td>\n",
       "      <td>6.147952</td>\n",
       "      <td>39.997500</td>\n",
       "      <td>9.290000</td>\n",
       "      <td>55.890000</td>\n",
       "    </tr>\n",
       "    <tr>\n",
       "      <th>max</th>\n",
       "      <td>9999.000000</td>\n",
       "      <td>28185.000000</td>\n",
       "      <td>-99995.0</td>\n",
       "      <td>11760.000000</td>\n",
       "      <td>5.000000</td>\n",
       "      <td>13.014039</td>\n",
       "      <td>12.994216</td>\n",
       "      <td>3.122285</td>\n",
       "      <td>7.863830</td>\n",
       "      <td>27.410721</td>\n",
       "      <td>21.155798</td>\n",
       "      <td>70.450000</td>\n",
       "      <td>23.060000</td>\n",
       "      <td>91.490000</td>\n",
       "    </tr>\n",
       "  </tbody>\n",
       "</table>\n",
       "</div>"
      ]
     },
     "execution_count": 150,
     "metadata": {},
     "output_type": "execute_result"
    }
   ],
   "execution_count": 150
  },
  {
   "metadata": {},
   "cell_type": "markdown",
   "source": [
    "### relaties vinden tussen de variabelen\n",
    "Het kan zijn dat er simpele correlaties zijn tussen de variabelen. Dit kan helpen om te begrijpen hoe de data in elkaar steekt, en kan ook helpen om de AI beter te maken. We gaan kijken naar de correlatie tussen de variabelen."
   ],
   "id": "5ca094d465b574e1"
  },
  {
   "metadata": {
    "ExecuteTime": {
     "end_time": "2025-06-05T12:12:55.757157Z",
     "start_time": "2025-06-05T12:12:55.648622Z"
    }
   },
   "cell_type": "code",
   "source": [
    "# # print the top 10 of variables that have the highest correlation with lbm\n",
    "# correlation = merged_df.corr()\n",
    "# correlation = correlation['lbm']\n",
    "# correlation = correlation.reindex(correlation.abs().sort_values(ascending=False).index)\n",
    "# correlation = correlation[1:11]\n",
    "# plt.figure(figsize=(10, 6))\n",
    "# sns.barplot(x=correlation.index, y=correlation.values)\n",
    "# plt.xticks(rotation=90)\n",
    "# plt.title('Top 10 variables that have the highest correlation with lbm')\n",
    "# plt.xlabel('Variables')\n",
    "# plt.ylabel('Correlation')\n",
    "# plt.show()\n",
    "\n",
    "# print the top 10 of variables that have the highest correlation with mgr_mean\n",
    "exclude = ['mgr_median', 'mgr_stdev', 'mgr_min', 'mgr_max', 'mgr_range', 'pc4']\n",
    "temp_df = merged_df.drop(columns=exclude)\n",
    "correlation = temp_df.corr()\n",
    "correlation = correlation['mgr_mean']\n",
    "correlation = correlation.reindex(correlation.abs().sort_values(ascending=False).index)\n",
    "correlation = correlation[1:11]\n",
    "plt.figure(figsize=(10, 6))\n",
    "sns.barplot(x=correlation.index, y=correlation.values)\n",
    "plt.xticks(rotation=90)\n",
    "plt.title('Top 10 variables that have the highest correlation with mgr_mean')\n",
    "plt.xlabel('Variables')\n",
    "plt.ylabel('Correlation')\n",
    "plt.show()"
   ],
   "id": "a368d420154f9f9c",
   "outputs": [
    {
     "data": {
      "text/plain": [
       "<Figure size 1000x600 with 1 Axes>"
      ],
      "image/png": "[encoded data removed]"
     },
     "metadata": {},
     "output_type": "display_data"
    }
   ],
   "execution_count": 151
  },
  {
   "metadata": {},
   "cell_type": "markdown",
   "source": [
    "We zien hier dat de variabelen: omgevingsadressendichtheid, en stedelijkheid de hoogste correlatie hebben met de leefbaarometer. Echter zijn deze scores niet hoog. Ongeveer 0.15.\n",
    "\n",
    "Het Milieugezondheidsrisico lijkt betere correlaties te hebben. De Stedelijkheid en omgevingsgeadressendichtheid hebben een correlatie van ongeveer 0.6.\n",
    "\n",
    "Deze correlaties zijn echter niet erg nuttig voor het model, we willen namelijk zien wat de impact is van kleine veranderingen die gewone burgers kunnen uitvoeren, zoals het planten van struiken en gras. Daarom gaan we de data verder analyseren met minder kolommen.\n"
   ],
   "id": "72d0855bf94badd0"
  },
  {
   "metadata": {
    "ExecuteTime": {
     "end_time": "2025-06-05T12:13:01.482789Z",
     "start_time": "2025-06-05T12:12:55.781327Z"
    }
   },
   "cell_type": "code",
   "source": [
    "print(merged_df.columns)\n",
    "drop_columns = ['aantal_inwoners', 'percentage_laag_inkomen_huishouden', 'omgevingsadressendichtheid', 'mgr_median', 'mgr_stdev', 'mgr_min', 'mgr_max', 'mgr_range']\n",
    "merged_df = merged_df.drop(columns=drop_columns)\n",
    "\n",
    "# create a svm model to predict the lbm (leefbaarometer) and mgr_mean based on the other variable\n",
    "\n",
    "X = merged_df.drop(columns=[\n",
    "    # 'lbm',\n",
    "    'mgr_mean', 'pc4'])\n",
    "# y_lbm = merged_df['lbm']\n",
    "y_mgr = merged_df['mgr_mean']\n",
    "# X_train, X_test, y_train_lbm, y_test_lbm = train_test_split(X, y_lbm, test_size=0.2, random_state=42)\n",
    "X_train_mgr, X_test_mgr, y_train_mgr, y_test_mgr = train_test_split(X, y_mgr, test_size=0.2, random_state=42)\n",
    "#\n",
    "# model = svm.SVR(kernel='linear')\n",
    "# model.fit(X_train, y_train_lbm)\n",
    "# y_pred_lbm = model.predict(X_test)\n",
    "model_mgr = svm.SVR(kernel='linear')\n",
    "model_mgr.fit(X_train_mgr, y_train_mgr)\n",
    "y_pred_mgr = model_mgr.predict(X_test_mgr)\n",
    "\n",
    "# show results\n",
    "\n",
    "merged_df.to_csv('merged_df.csv', index=False)"
   ],
   "id": "be38d4d817e2b45e",
   "outputs": [
    {
     "name": "stdout",
     "output_type": "stream",
     "text": [
      "Index(['pc4', 'aantal_inwoners', 'percentage_laag_inkomen_huishouden',\n",
      "       'omgevingsadressendichtheid', 'stedelijkheid', 'mgr_mean', 'mgr_median',\n",
      "       'mgr_stdev', 'mgr_min', 'mgr_max', 'mgr_range', 'PercentageTrees',\n",
      "       'PercentageBushes', 'PercentageGrass'],\n",
      "      dtype='object')\n"
     ]
    }
   ],
   "execution_count": 152
  },
  {
   "metadata": {
    "ExecuteTime": {
     "end_time": "2025-06-05T12:13:01.492978Z",
     "start_time": "2025-06-05T12:13:01.487805Z"
    }
   },
   "cell_type": "code",
   "source": [
    "# joblib.dump(model, 'svm_lbm_model.joblib')\n",
    "joblib.dump(model_mgr, 'svm_mgr_model.joblib')"
   ],
   "id": "f9dc24bb8709aa1f",
   "outputs": [
    {
     "data": {
      "text/plain": [
       "['svm_mgr_model.joblib']"
      ]
     },
     "execution_count": 153,
     "metadata": {},
     "output_type": "execute_result"
    }
   ],
   "execution_count": 153
  },
  {
   "metadata": {},
   "cell_type": "markdown",
   "source": "",
   "id": "f1a83a2d87ff773c"
  },
  {
   "metadata": {
    "ExecuteTime": {
     "end_time": "2025-06-05T12:13:01.613173Z",
     "start_time": "2025-06-05T12:13:01.578797Z"
    }
   },
   "cell_type": "code",
   "source": [
    "# Load the models\n",
    "# model_lbm = joblib.load('svm_lbm_model.joblib')\n",
    "model_mgr = joblib.load('svm_mgr_model.joblib')\n",
    "\n",
    "print(type(model_mgr))\n",
    "print(model_mgr.get_params())\n",
    "print(X_train_mgr.columns)\n",
    "\n",
    "# Predict using the models\n",
    "# y_pred_lbm = model_lbm.predict(X_test)\n",
    "y_pred_mgr = model_mgr.predict(X_test_mgr)"
   ],
   "id": "231efb27094926ee",
   "outputs": [
    {
     "name": "stdout",
     "output_type": "stream",
     "text": [
      "<class 'sklearn.svm._classes.SVR'>\n",
      "{'C': 1.0, 'cache_size': 200, 'coef0': 0.0, 'degree': 3, 'epsilon': 0.1, 'gamma': 'scale', 'kernel': 'linear', 'max_iter': -1, 'shrinking': True, 'tol': 0.001, 'verbose': False}\n",
      "Index(['stedelijkheid', 'PercentageTrees', 'PercentageBushes',\n",
      "       'PercentageGrass'],\n",
      "      dtype='object')\n"
     ]
    }
   ],
   "execution_count": 154
  },
  {
   "metadata": {
    "ExecuteTime": {
     "end_time": "2025-06-05T12:13:01.671142Z",
     "start_time": "2025-06-05T12:13:01.665711Z"
    }
   },
   "cell_type": "code",
   "source": [
    "# Test lbm model\n",
    "# r2_lbm = r2_score(y_test_lbm, y_pred_lbm)\n",
    "# mse_lbm = mean_squared_error(y_test_lbm, y_pred_lbm)\n",
    "# print(f'lbm model - R²: {r2_lbm:.3f}, MSE: {mse_lbm:.3f}')\n",
    "\n",
    "# Test mgr_mean model\n",
    "r2_mgr = r2_score(y_test_mgr, y_pred_mgr)\n",
    "mse_mgr = mean_squared_error(y_test_mgr, y_pred_mgr)\n",
    "print(f'mgr_mean model - R²: {r2_mgr:.3f}, MSE: {mse_mgr:.3f}')"
   ],
   "id": "71fb3f15b6526525",
   "outputs": [
    {
     "name": "stdout",
     "output_type": "stream",
     "text": [
      "mgr_mean model - R²: 0.239, MSE: 0.897\n"
     ]
    }
   ],
   "execution_count": 155
  },
  {
   "metadata": {},
   "cell_type": "markdown",
   "source": [
    "Deze resultaten laten zien dat het model om de leefbaarometer te voorspellen erg slecht is. Hij heeft namelijk een R² score van 0.015, terwijl doorgaans een score vanaf 0.5 pas significant is. Het model voor het voorspellen van het Milieugezondheidsrisico is beter, met een R² score van 0.386, de foutmarge is wel groter, met een MSE van 0.677.\n",
    "\n"
   ],
   "id": "9170c624323f6f66"
  }
 ],
 "metadata": {
  "kernelspec": {
   "display_name": "Python 3",
   "language": "python",
   "name": "python3"
  },
  "language_info": {
   "codemirror_mode": {
    "name": "ipython",
    "version": 2
   },
   "file_extension": ".py",
   "mimetype": "text/x-python",
   "name": "python",
   "nbconvert_exporter": "python",
   "pygments_lexer": "ipython2",
   "version": "2.7.6"
  }
 },
 "nbformat": 4,
 "nbformat_minor": 5
}
