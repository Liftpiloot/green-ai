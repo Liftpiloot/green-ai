{
 "cells": [
  {
   "metadata": {},
   "cell_type": "markdown",
   "source": [
    "# Green AI model\n",
    "### Dit model is gemaakt om te kunnen voorspellen in hoeverre de leefbaarheid, en het milieugezondheidsrisico van een postcode in Nederland verbeterd kan worden door het aanleggen van meer groen in de buurt.\n",
    "\n",
    " - Abel van Dijk"
   ],
   "id": "35855c09a4bf97a7"
  },
  {
   "metadata": {},
   "cell_type": "markdown",
   "source": "### Importeren van de data en libraries, en data analyseren",
   "id": "ce7ed90b5b3ab3ee"
  },
  {
   "metadata": {
    "ExecuteTime": {
     "end_time": "2025-05-23T09:57:09.889570Z",
     "start_time": "2025-05-23T09:57:09.886095Z"
    }
   },
   "cell_type": "code",
   "source": [
    "import pandas as pd\n",
    "from functools import reduce\n",
    "import numpy as np\n",
    "import seaborn as sns\n",
    "import matplotlib.pyplot as plt\n",
    "\n"
   ],
   "id": "da3635fe8765d363",
   "outputs": [],
   "execution_count": 161
  },
  {
   "metadata": {
    "ExecuteTime": {
     "end_time": "2025-05-23T09:57:09.976381Z",
     "start_time": "2025-05-23T09:57:09.906203Z"
    }
   },
   "cell_type": "code",
   "source": [
    "# importeer de csv bestanden\n",
    "Groenkaart = pd.read_csv('ai-data/Groenkaart.csv', sep=';')\n",
    "Leefbaarometer = pd.read_csv('ai-data/Leefbaarometer.csv', sep=',')\n",
    "Milieugezondheidrisico = pd.read_csv('ai-data/MilieuGezondheidRisico.csv', sep=',')\n",
    "TreesBushesGrass = pd.read_csv('ai-data/TreesBushesGrass.csv', sep=',')\n",
    "data = []\n",
    "data.append(Groenkaart)\n",
    "data.append(Leefbaarometer)\n",
    "data.append(Milieugezondheidrisico)\n",
    "data.append(TreesBushesGrass)"
   ],
   "id": "83640df37ece54d2",
   "outputs": [],
   "execution_count": 162
  },
  {
   "metadata": {
    "ExecuteTime": {
     "end_time": "2025-05-23T09:57:10.005848Z",
     "start_time": "2025-05-23T09:57:09.996564Z"
    }
   },
   "cell_type": "code",
   "source": [
    "for dataframe in data:\n",
    "    print(dataframe.head())"
   ],
   "id": "5d09a0ccdb8e745e",
   "outputs": [
    {
     "name": "stdout",
     "output_type": "stream",
     "text": [
      "   fid  postcode groen_mean  groen_median groen_stdev  groen_min groen_max,,\n",
      "0    1      1011          4             4           0          4         4,,\n",
      "1    2      1012          4             4           0          4         4,,\n",
      "2    3      1013          4             4           0          4         4,,\n",
      "3    4      1014          4             4           0          4         4,,\n",
      "4    5      1015          4             4           0          4         4,,\n",
      "    PC4  jaar_van  jaar_naar       lbm  fys  onv  soc  vrz  won\n",
      "0  1011      2002       2008  0.125362  NaN  NaN  NaN  NaN  NaN\n",
      "1  1011      2002       2012  0.140800  NaN  NaN  NaN  NaN  NaN\n",
      "2  1011      2002       2014  0.115708  NaN  NaN  NaN  NaN  NaN\n",
      "3  1011      2002       2016  0.115027  NaN  NaN  NaN  NaN  NaN\n",
      "4  1011      2002       2018  0.111637  NaN  NaN  NaN  NaN  NaN\n",
      "   fid  postcode  aantal_inwoners  percentage_laag_inkomen_huishouden  \\\n",
      "0    1      1011             9910                              -99995   \n",
      "1    2      1012             8900                              -99995   \n",
      "2    3      1013            22350                              -99995   \n",
      "3    4      1014             3900                              -99995   \n",
      "4    5      1015            14850                              -99995   \n",
      "\n",
      "   omgevingsadressendichtheid  stedelijkheid  mgr_mean  mgr_median  mgr_stdev  \\\n",
      "0                        7150              1  7.290559    7.133442   0.967692   \n",
      "1                        8612              1  6.960372    6.819243   0.745158   \n",
      "2                        6614              1  7.533962    7.285124   1.303057   \n",
      "3                        3384              1  7.505071    7.256185   1.094641   \n",
      "4                       11140              1  6.591132    6.457922   0.422560   \n",
      "\n",
      "    mgr_min    mgr_max  mgr_range  \n",
      "0  5.898354  10.844517   4.946163  \n",
      "1  5.890296  10.846636   4.956339  \n",
      "2  5.605446  14.447000   8.841555  \n",
      "3  5.700474  11.542089   5.841615  \n",
      "4  6.025425   8.500682   2.475256  \n",
      "   Postcode  PercentageTrees  PercentageBushes  PercentageGrass\n",
      "0      1011            20.29              5.89            17.21\n",
      "1      1012            16.31              4.38            13.89\n",
      "2      1013            21.12              7.54            30.54\n",
      "3      1014            29.92             10.18            41.75\n",
      "4      1015            21.36              7.43            17.37\n"
     ]
    }
   ],
   "execution_count": 163
  },
  {
   "metadata": {},
   "cell_type": "markdown",
   "source": [
    "Alle dataframes bevatten een kolom met de postcode in pc4 format, (4 cijfers) en een kolom met de waarde van de variabele. De postcode in pc4 format is een unieke identifier voor elke postcode in Nederland. Dit betekent dat we de dataframes kunnen samenvoegen op basis van deze kolom.\n",
    "\n",
    "### Samenvoegen van de dataframes\n"
   ],
   "id": "1d06c884f2ccfdfd"
  },
  {
   "metadata": {
    "ExecuteTime": {
     "end_time": "2025-05-23T09:57:10.084461Z",
     "start_time": "2025-05-23T09:57:10.026199Z"
    }
   },
   "cell_type": "code",
   "source": [
    "for i, df in enumerate(data):\n",
    "    for col in df.columns:\n",
    "        if col.lower() in ['postcode', 'pc4']:\n",
    "            df.rename(columns={col: 'pc4'}, inplace=True)\n",
    "    data[i] = df\n",
    "\n",
    "merged_df = reduce(lambda left, right: pd.merge(left, right, on='pc4', how='outer'), data)\n",
    "\n",
    "print(merged_df.head())\n",
    "\n",
    "print(merged_df.columns)"
   ],
   "id": "1913323ada9e5b83",
   "outputs": [
    {
     "name": "stdout",
     "output_type": "stream",
     "text": [
      "   fid_x   pc4 groen_mean  groen_median groen_stdev  groen_min groen_max,,  \\\n",
      "0      1  1011          4             4           0          4         4,,   \n",
      "1      1  1011          4             4           0          4         4,,   \n",
      "2      1  1011          4             4           0          4         4,,   \n",
      "3      1  1011          4             4           0          4         4,,   \n",
      "4      1  1011          4             4           0          4         4,,   \n",
      "\n",
      "   jaar_van  jaar_naar       lbm  ...  stedelijkheid  mgr_mean  mgr_median  \\\n",
      "0    2002.0     2008.0  0.125362  ...              1  7.290559    7.133442   \n",
      "1    2002.0     2012.0  0.140800  ...              1  7.290559    7.133442   \n",
      "2    2002.0     2014.0  0.115708  ...              1  7.290559    7.133442   \n",
      "3    2002.0     2016.0  0.115027  ...              1  7.290559    7.133442   \n",
      "4    2002.0     2018.0  0.111637  ...              1  7.290559    7.133442   \n",
      "\n",
      "   mgr_stdev   mgr_min    mgr_max  mgr_range  PercentageTrees  \\\n",
      "0   0.967692  5.898354  10.844517   4.946163            20.29   \n",
      "1   0.967692  5.898354  10.844517   4.946163            20.29   \n",
      "2   0.967692  5.898354  10.844517   4.946163            20.29   \n",
      "3   0.967692  5.898354  10.844517   4.946163            20.29   \n",
      "4   0.967692  5.898354  10.844517   4.946163            20.29   \n",
      "\n",
      "   PercentageBushes  PercentageGrass  \n",
      "0              5.89            17.21  \n",
      "1              5.89            17.21  \n",
      "2              5.89            17.21  \n",
      "3              5.89            17.21  \n",
      "4              5.89            17.21  \n",
      "\n",
      "[5 rows x 29 columns]\n",
      "Index(['fid_x', 'pc4', 'groen_mean', 'groen_median', 'groen_stdev',\n",
      "       'groen_min', 'groen_max,,', 'jaar_van', 'jaar_naar', 'lbm', 'fys',\n",
      "       'onv', 'soc', 'vrz', 'won', 'fid_y', 'aantal_inwoners',\n",
      "       'percentage_laag_inkomen_huishouden', 'omgevingsadressendichtheid',\n",
      "       'stedelijkheid', 'mgr_mean', 'mgr_median', 'mgr_stdev', 'mgr_min',\n",
      "       'mgr_max', 'mgr_range', 'PercentageTrees', 'PercentageBushes',\n",
      "       'PercentageGrass'],\n",
      "      dtype='object')\n"
     ]
    }
   ],
   "execution_count": 164
  },
  {
   "metadata": {},
   "cell_type": "markdown",
   "source": "### Missende data",
   "id": "69ed135dc84282a9"
  },
  {
   "metadata": {
    "ExecuteTime": {
     "end_time": "2025-05-23T09:57:10.122909Z",
     "start_time": "2025-05-23T09:57:10.105801Z"
    }
   },
   "cell_type": "code",
   "source": [
    "missing_data = merged_df.isnull().sum()\n",
    "missing_data_percentage = (missing_data / len(merged_df)) * 100\n",
    "missing_data_percentage = missing_data_percentage[missing_data_percentage > 0]\n",
    "print(missing_data_percentage)"
   ],
   "id": "d9f4b31ad60eaa54",
   "outputs": [
    {
     "name": "stdout",
     "output_type": "stream",
     "text": [
      "jaar_van      0.014188\n",
      "jaar_naar     0.014188\n",
      "lbm           0.014188\n",
      "fys          78.523228\n",
      "onv          78.523228\n",
      "soc          78.523228\n",
      "vrz          78.523228\n",
      "won          78.523228\n",
      "dtype: float64\n"
     ]
    }
   ],
   "execution_count": 165
  },
  {
   "metadata": {},
   "cell_type": "markdown",
   "source": [
    "### Verwijderen van onnodige kolommen\n",
    "- fid_x en fid_y slechts een id, kan verwijderd worden\n",
    "Leefbaarheid wordt gevormd door\n",
    "- Woningvoorraad\n",
    "- Fysieke omgeving\n",
    "- Voorzieningen\n",
    "- Sociale samenhang\n",
    "- Overlast en onveiligheid\n",
    "Deze subvariabelen zijn in de meeste rijen niet ingevuld, en zijn dus niet handig om te gebruiken. We verwijderen ze.\n",
    "\n",
    "- jaar_van en jaar_naar zijn niet nodig omdat de AI geen tijdsafhankelijk is.\n",
    "\n",
    "-lbm (Leefbaarometer) is een waarde die we willen vorspellen, en is dus de target variable. Deze kolom willen we behouden, daarom verwwijder ik de rijen met een null waarde in deze kolom."
   ],
   "id": "6ded5eba16f590da"
  },
  {
   "metadata": {
    "ExecuteTime": {
     "end_time": "2025-05-23T09:57:10.179557Z",
     "start_time": "2025-05-23T09:57:10.143076Z"
    }
   },
   "cell_type": "code",
   "source": [
    "# Verwijder de kolommen die niet nodig zijn\n",
    "merged_df.drop(columns=['fid_x', 'fid_y', 'fys', 'onv', 'soc', 'vrz', 'won', 'jaar_naar', 'jaar_van'], inplace=True)\n",
    "\n",
    "# Verwijder de rijen met een null waarde in de kolom 'lbm'\n",
    "merged_df.dropna(subset=['lbm'], inplace=True)\n",
    "\n",
    "merged_df.info()"
   ],
   "id": "4bac5745357ad054",
   "outputs": [
    {
     "name": "stdout",
     "output_type": "stream",
     "text": [
      "<class 'pandas.core.frame.DataFrame'>\n",
      "Index: 112757 entries, 0 to 112772\n",
      "Data columns (total 20 columns):\n",
      " #   Column                              Non-Null Count   Dtype  \n",
      "---  ------                              --------------   -----  \n",
      " 0   pc4                                 112757 non-null  int64  \n",
      " 1   groen_mean                          112757 non-null  object \n",
      " 2   groen_median                        112757 non-null  int64  \n",
      " 3   groen_stdev                         112757 non-null  object \n",
      " 4   groen_min                           112757 non-null  int64  \n",
      " 5   groen_max,,                         112757 non-null  object \n",
      " 6   lbm                                 112757 non-null  float64\n",
      " 7   aantal_inwoners                     112757 non-null  int64  \n",
      " 8   percentage_laag_inkomen_huishouden  112757 non-null  int64  \n",
      " 9   omgevingsadressendichtheid          112757 non-null  int64  \n",
      " 10  stedelijkheid                       112757 non-null  int64  \n",
      " 11  mgr_mean                            112757 non-null  float64\n",
      " 12  mgr_median                          112757 non-null  float64\n",
      " 13  mgr_stdev                           112757 non-null  float64\n",
      " 14  mgr_min                             112757 non-null  float64\n",
      " 15  mgr_max                             112757 non-null  float64\n",
      " 16  mgr_range                           112757 non-null  float64\n",
      " 17  PercentageTrees                     112757 non-null  float64\n",
      " 18  PercentageBushes                    112757 non-null  float64\n",
      " 19  PercentageGrass                     112757 non-null  float64\n",
      "dtypes: float64(10), int64(7), object(3)\n",
      "memory usage: 18.1+ MB\n"
     ]
    }
   ],
   "execution_count": 166
  },
  {
   "metadata": {},
   "cell_type": "markdown",
   "source": [
    "### Niet-numerieke kolommen\n",
    "de kolommen groen_mean, groen_stdev, groen_max bevatten bevatten objects in plaats van floats. bij het bekijken van de data zie ik dat er een fout lijkt te zijn, omdat de waarden van 1 tot 4 horen te zijn, maar enorme waarden bevatten. Dit komt omdat de kaart -9999 bevat op locaties waar geen groen is. de waarden 1 tot 4 zijn categorisch. Bij het berekenen van het gemiddelde, standaard deviatie en maximum, worden dus vreemde getallen berekend. Ik denk dat dit komt omdat Qgis niet goed kan rekenen met de -9999 waarde. Omdat de meeste rijen nu hele rare data bevatten, verwijder ik deze kolommen.\n",
    "\n",
    "Omdat het categorische data betreft, lijkt de Median"
   ],
   "id": "53a6fa909d707b46"
  },
  {
   "metadata": {
    "ExecuteTime": {
     "end_time": "2025-05-23T09:57:10.263643Z",
     "start_time": "2025-05-23T09:57:10.201407Z"
    }
   },
   "cell_type": "code",
   "source": [
    "# delete the columns groen_mean;groen_median;groen_stdev;groen_min;groen_max,\n",
    "\n",
    "merged_df.drop(columns=['groen_mean', 'groen_median', 'groen_stdev', 'groen_min', 'groen_max,,'], inplace=True)\n",
    "\n",
    "merged_df.describe()"
   ],
   "id": "ec9f793ccf208ef",
   "outputs": [
    {
     "data": {
      "text/plain": [
       "                 pc4            lbm  aantal_inwoners  \\\n",
       "count  112757.000000  112757.000000    112757.000000   \n",
       "mean     5683.657414       0.027117      4251.471075   \n",
       "std      2664.755687       0.063354      6066.047278   \n",
       "min      1011.000000      -0.837495    -99997.000000   \n",
       "25%      3344.000000      -0.004805       750.000000   \n",
       "50%      5712.000000       0.023438      2860.000000   \n",
       "75%      8051.000000       0.057576      7200.000000   \n",
       "max      9999.000000       0.847029     28185.000000   \n",
       "\n",
       "       percentage_laag_inkomen_huishouden  omgevingsadressendichtheid  \\\n",
       "count                            112757.0               112757.000000   \n",
       "mean                             -99995.0                 1080.766267   \n",
       "std                                   0.0                 1425.821055   \n",
       "min                              -99995.0                    2.000000   \n",
       "25%                              -99995.0                  125.000000   \n",
       "50%                              -99995.0                  530.000000   \n",
       "75%                              -99995.0                 1572.000000   \n",
       "max                              -99995.0                11760.000000   \n",
       "\n",
       "       stedelijkheid       mgr_mean     mgr_median      mgr_stdev  \\\n",
       "count  112757.000000  112757.000000  112757.000000  112757.000000   \n",
       "mean        3.736291       4.111463       3.933553       0.624156   \n",
       "std         1.464727       1.053588       0.991937       0.321707   \n",
       "min         1.000000       2.019631       2.552323       0.047456   \n",
       "25%         2.000000       3.312202       3.191154       0.387390   \n",
       "50%         4.000000       3.867836       3.679556       0.577447   \n",
       "75%         5.000000       4.726688       4.492579       0.801748   \n",
       "max         5.000000      13.014039      12.994216       3.122285   \n",
       "\n",
       "             mgr_min        mgr_max      mgr_range  PercentageTrees  \\\n",
       "count  112757.000000  112757.000000  112757.000000    112757.000000   \n",
       "mean        3.069564       8.062582       4.993018        32.656208   \n",
       "std         1.337337       2.430716       2.293558        11.459565   \n",
       "min         0.000000       3.111541       0.339382         3.810000   \n",
       "25%         2.743936       6.402481       3.408285        24.420000   \n",
       "50%         3.219712       7.759542       4.640089        29.550000   \n",
       "75%         3.791558       9.329633       6.147729        40.040000   \n",
       "max         7.863830      21.830309      17.693716        70.450000   \n",
       "\n",
       "       PercentageBushes  PercentageGrass  \n",
       "count     112757.000000    112757.000000  \n",
       "mean           8.698239        47.525149  \n",
       "std            1.580098        10.943012  \n",
       "min            4.010000        13.890000  \n",
       "25%            7.780000        39.530000  \n",
       "50%            8.460000        47.240000  \n",
       "75%            9.290000        55.800000  \n",
       "max           23.060000        91.490000  "
      ],
      "text/html": [
       "<div>\n",
       "<style scoped>\n",
       "    .dataframe tbody tr th:only-of-type {\n",
       "        vertical-align: middle;\n",
       "    }\n",
       "\n",
       "    .dataframe tbody tr th {\n",
       "        vertical-align: top;\n",
       "    }\n",
       "\n",
       "    .dataframe thead th {\n",
       "        text-align: right;\n",
       "    }\n",
       "</style>\n",
       "<table border=\"1\" class=\"dataframe\">\n",
       "  <thead>\n",
       "    <tr style=\"text-align: right;\">\n",
       "      <th></th>\n",
       "      <th>pc4</th>\n",
       "      <th>lbm</th>\n",
       "      <th>aantal_inwoners</th>\n",
       "      <th>percentage_laag_inkomen_huishouden</th>\n",
       "      <th>omgevingsadressendichtheid</th>\n",
       "      <th>stedelijkheid</th>\n",
       "      <th>mgr_mean</th>\n",
       "      <th>mgr_median</th>\n",
       "      <th>mgr_stdev</th>\n",
       "      <th>mgr_min</th>\n",
       "      <th>mgr_max</th>\n",
       "      <th>mgr_range</th>\n",
       "      <th>PercentageTrees</th>\n",
       "      <th>PercentageBushes</th>\n",
       "      <th>PercentageGrass</th>\n",
       "    </tr>\n",
       "  </thead>\n",
       "  <tbody>\n",
       "    <tr>\n",
       "      <th>count</th>\n",
       "      <td>112757.000000</td>\n",
       "      <td>112757.000000</td>\n",
       "      <td>112757.000000</td>\n",
       "      <td>112757.0</td>\n",
       "      <td>112757.000000</td>\n",
       "      <td>112757.000000</td>\n",
       "      <td>112757.000000</td>\n",
       "      <td>112757.000000</td>\n",
       "      <td>112757.000000</td>\n",
       "      <td>112757.000000</td>\n",
       "      <td>112757.000000</td>\n",
       "      <td>112757.000000</td>\n",
       "      <td>112757.000000</td>\n",
       "      <td>112757.000000</td>\n",
       "      <td>112757.000000</td>\n",
       "    </tr>\n",
       "    <tr>\n",
       "      <th>mean</th>\n",
       "      <td>5683.657414</td>\n",
       "      <td>0.027117</td>\n",
       "      <td>4251.471075</td>\n",
       "      <td>-99995.0</td>\n",
       "      <td>1080.766267</td>\n",
       "      <td>3.736291</td>\n",
       "      <td>4.111463</td>\n",
       "      <td>3.933553</td>\n",
       "      <td>0.624156</td>\n",
       "      <td>3.069564</td>\n",
       "      <td>8.062582</td>\n",
       "      <td>4.993018</td>\n",
       "      <td>32.656208</td>\n",
       "      <td>8.698239</td>\n",
       "      <td>47.525149</td>\n",
       "    </tr>\n",
       "    <tr>\n",
       "      <th>std</th>\n",
       "      <td>2664.755687</td>\n",
       "      <td>0.063354</td>\n",
       "      <td>6066.047278</td>\n",
       "      <td>0.0</td>\n",
       "      <td>1425.821055</td>\n",
       "      <td>1.464727</td>\n",
       "      <td>1.053588</td>\n",
       "      <td>0.991937</td>\n",
       "      <td>0.321707</td>\n",
       "      <td>1.337337</td>\n",
       "      <td>2.430716</td>\n",
       "      <td>2.293558</td>\n",
       "      <td>11.459565</td>\n",
       "      <td>1.580098</td>\n",
       "      <td>10.943012</td>\n",
       "    </tr>\n",
       "    <tr>\n",
       "      <th>min</th>\n",
       "      <td>1011.000000</td>\n",
       "      <td>-0.837495</td>\n",
       "      <td>-99997.000000</td>\n",
       "      <td>-99995.0</td>\n",
       "      <td>2.000000</td>\n",
       "      <td>1.000000</td>\n",
       "      <td>2.019631</td>\n",
       "      <td>2.552323</td>\n",
       "      <td>0.047456</td>\n",
       "      <td>0.000000</td>\n",
       "      <td>3.111541</td>\n",
       "      <td>0.339382</td>\n",
       "      <td>3.810000</td>\n",
       "      <td>4.010000</td>\n",
       "      <td>13.890000</td>\n",
       "    </tr>\n",
       "    <tr>\n",
       "      <th>25%</th>\n",
       "      <td>3344.000000</td>\n",
       "      <td>-0.004805</td>\n",
       "      <td>750.000000</td>\n",
       "      <td>-99995.0</td>\n",
       "      <td>125.000000</td>\n",
       "      <td>2.000000</td>\n",
       "      <td>3.312202</td>\n",
       "      <td>3.191154</td>\n",
       "      <td>0.387390</td>\n",
       "      <td>2.743936</td>\n",
       "      <td>6.402481</td>\n",
       "      <td>3.408285</td>\n",
       "      <td>24.420000</td>\n",
       "      <td>7.780000</td>\n",
       "      <td>39.530000</td>\n",
       "    </tr>\n",
       "    <tr>\n",
       "      <th>50%</th>\n",
       "      <td>5712.000000</td>\n",
       "      <td>0.023438</td>\n",
       "      <td>2860.000000</td>\n",
       "      <td>-99995.0</td>\n",
       "      <td>530.000000</td>\n",
       "      <td>4.000000</td>\n",
       "      <td>3.867836</td>\n",
       "      <td>3.679556</td>\n",
       "      <td>0.577447</td>\n",
       "      <td>3.219712</td>\n",
       "      <td>7.759542</td>\n",
       "      <td>4.640089</td>\n",
       "      <td>29.550000</td>\n",
       "      <td>8.460000</td>\n",
       "      <td>47.240000</td>\n",
       "    </tr>\n",
       "    <tr>\n",
       "      <th>75%</th>\n",
       "      <td>8051.000000</td>\n",
       "      <td>0.057576</td>\n",
       "      <td>7200.000000</td>\n",
       "      <td>-99995.0</td>\n",
       "      <td>1572.000000</td>\n",
       "      <td>5.000000</td>\n",
       "      <td>4.726688</td>\n",
       "      <td>4.492579</td>\n",
       "      <td>0.801748</td>\n",
       "      <td>3.791558</td>\n",
       "      <td>9.329633</td>\n",
       "      <td>6.147729</td>\n",
       "      <td>40.040000</td>\n",
       "      <td>9.290000</td>\n",
       "      <td>55.800000</td>\n",
       "    </tr>\n",
       "    <tr>\n",
       "      <th>max</th>\n",
       "      <td>9999.000000</td>\n",
       "      <td>0.847029</td>\n",
       "      <td>28185.000000</td>\n",
       "      <td>-99995.0</td>\n",
       "      <td>11760.000000</td>\n",
       "      <td>5.000000</td>\n",
       "      <td>13.014039</td>\n",
       "      <td>12.994216</td>\n",
       "      <td>3.122285</td>\n",
       "      <td>7.863830</td>\n",
       "      <td>21.830309</td>\n",
       "      <td>17.693716</td>\n",
       "      <td>70.450000</td>\n",
       "      <td>23.060000</td>\n",
       "      <td>91.490000</td>\n",
       "    </tr>\n",
       "  </tbody>\n",
       "</table>\n",
       "</div>"
      ]
     },
     "execution_count": 167,
     "metadata": {},
     "output_type": "execute_result"
    }
   ],
   "execution_count": 167
  },
  {
   "metadata": {},
   "cell_type": "markdown",
   "source": [
    "### relaties vinden tussen de variabelen\n",
    "Het kan zijn dat er simpele correlaties zijn tussen de variabelen. Dit kan helpen om te begrijpen hoe de data in elkaar steekt, en kan ook helpen om de AI beter te maken. We gaan kijken naar de correlatie tussen de variabelen."
   ],
   "id": "5ca094d465b574e1"
  },
  {
   "metadata": {
    "ExecuteTime": {
     "end_time": "2025-05-23T09:57:10.662595Z",
     "start_time": "2025-05-23T09:57:10.310466Z"
    }
   },
   "cell_type": "code",
   "source": [
    "# print the top 10 of variables that have the highest correlation with lbm\n",
    "correlation = merged_df.corr()\n",
    "correlation = correlation['lbm'].sort_values(ascending=False)\n",
    "correlation = correlation[1:11]\n",
    "plt.figure(figsize=(10, 6))\n",
    "sns.barplot(x=correlation.index, y=correlation.values)\n",
    "plt.xticks(rotation=90)\n",
    "plt.title('Top 10 variables that have the highest correlation with lbm')\n",
    "plt.xlabel('Variables')\n",
    "plt.ylabel('Correlation')\n",
    "plt.show()\n",
    "\n",
    "# print the top 10 of variables that have the highest correlation with mgr_mean\n",
    "correlation = merged_df.corr()\n",
    "correlation = correlation['mgr_mean'].sort_values(ascending=False)\n",
    "correlation = correlation[1:11]\n",
    "plt.figure(figsize=(10, 6))\n",
    "sns.barplot(x=correlation.index, y=correlation.values)\n",
    "plt.xticks(rotation=90)\n",
    "plt.title('Top 10 variables that have the highest correlation with mgr_mean')\n",
    "plt.xlabel('Variables')\n",
    "plt.ylabel('Correlation')\n",
    "plt.show()"
   ],
   "id": "a368d420154f9f9c",
   "outputs": [
    {
     "data": {
      "text/plain": [
       "<Figure size 1000x600 with 1 Axes>"
      ],
      "image/png": "[encoded data removed]"
     },
     "metadata": {},
     "output_type": "display_data"
    },
    {
     "data": {
      "text/plain": [
       "<Figure size 1000x600 with 1 Axes>"
      ],
      "image/png": "[encoded data removed]"
     },
     "metadata": {},
     "output_type": "display_data"
    }
   ],
   "execution_count": 168
  },
  {
   "metadata": {},
   "cell_type": "markdown",
   "source": "",
   "id": "72d0855bf94badd0"
  }
 ],
 "metadata": {
  "kernelspec": {
   "display_name": "Python 3",
   "language": "python",
   "name": "python3"
  },
  "language_info": {
   "codemirror_mode": {
    "name": "ipython",
    "version": 2
   },
   "file_extension": ".py",
   "mimetype": "text/x-python",
   "name": "python",
   "nbconvert_exporter": "python",
   "pygments_lexer": "ipython2",
   "version": "2.7.6"
  }
 },
 "nbformat": 4,
 "nbformat_minor": 5
}
